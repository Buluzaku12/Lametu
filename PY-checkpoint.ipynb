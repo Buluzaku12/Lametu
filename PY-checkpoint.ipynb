{
 "cells": [
  {
   "cell_type": "markdown",
   "id": "a788e3ef",
   "metadata": {},
   "source": [
    "<h6>Belajar variable daan tipe data</h6><hr>\n",
    "tipe data di python yaitu , <b>int, float, bolean, string, complex </b>"
   ]
  },
  {
   "cell_type": "code",
   "execution_count": 56,
   "id": "802c9848",
   "metadata": {},
   "outputs": [
    {
     "name": "stdout",
     "output_type": "stream",
     "text": [
      "35\n",
      "<class 'int'>\n"
     ]
    }
   ],
   "source": [
    "data_interger = 35\n",
    "data_interger\n",
    "print(data_interger)\n",
    "print (type(data_interger))"
   ]
  },
  {
   "cell_type": "code",
   "execution_count": 53,
   "id": "032d9329",
   "metadata": {},
   "outputs": [
    {
     "name": "stdout",
     "output_type": "stream",
     "text": [
      "11.5\n",
      "<class 'float'>\n"
     ]
    }
   ],
   "source": [
    "data_float = 11.5\n",
    "print (data_float)\n",
    "print (type(data_float))"
   ]
  },
  {
   "cell_type": "code",
   "execution_count": 15,
   "id": "53c7a1a9",
   "metadata": {},
   "outputs": [
    {
     "name": "stdout",
     "output_type": "stream",
     "text": [
      "True\n",
      "<class 'bool'>\n"
     ]
    }
   ],
   "source": [
    "data_boolean = False\n",
    "print(data_boolean)\n",
    "print(type(data_boolean))"
   ]
  },
  {
   "cell_type": "code",
   "execution_count": 59,
   "id": "6a5e89b1",
   "metadata": {},
   "outputs": [
    {
     "name": "stdout",
     "output_type": "stream",
     "text": [
      "5\n",
      "<class 'str'>\n"
     ]
    }
   ],
   "source": [
    "data_string = '5'\n",
    "print(data_string)\n",
    "print(type(data_string))"
   ]
  },
  {
   "cell_type": "code",
   "execution_count": 60,
   "id": "3e81ee34",
   "metadata": {},
   "outputs": [
    {
     "name": "stdout",
     "output_type": "stream",
     "text": [
      "(8+6j)\n",
      "<class 'complex'>\n"
     ]
    }
   ],
   "source": [
    "data_complex = complex(8,6)\n",
    "print(data_complex)\n",
    "print(type(data_complex))"
   ]
  },
  {
   "cell_type": "markdown",
   "id": "0ed90667",
   "metadata": {},
   "source": [
    "<h2>Casting</h2><hr>\n",
    "    <i><font color=\"blue\"> Casting </font> adalah proses melakukan konversi data</i> <br>\n",
    "    <ol>\n",
    "        <li>sintak casting menggunkan (type data ) </li>\n",
    "        <li> chasting dapat dilakukan untuk semua tipe data</li>\n",
    "    </ol>\n",
    "    "
   ]
  },
  {
   "cell_type": "code",
   "execution_count": 24,
   "id": "88288c8e",
   "metadata": {},
   "outputs": [
    {
     "name": "stdout",
     "output_type": "stream",
     "text": [
      "100\n"
     ]
    }
   ],
   "source": [
    "print (data_interger)"
   ]
  },
  {
   "cell_type": "code",
   "execution_count": 61,
   "id": "aa8f0952",
   "metadata": {},
   "outputs": [
    {
     "name": "stdout",
     "output_type": "stream",
     "text": [
      "35\n",
      "35.0\n",
      "True\n",
      "5\n",
      "True\n",
      "(8+6j)\n",
      "11.5\n",
      "<class 'str'>\n",
      "<class 'float'>\n",
      "<class 'bool'>\n",
      "<class 'int'>\n",
      "<class 'bool'>\n",
      "<class 'complex'>\n",
      "<class 'float'>\n"
     ]
    }
   ],
   "source": [
    "int_to_string = str (data_interger)\n",
    "int_to_float = float (data_interger)\n",
    "int_to_boolean = bool (data_interger) \n",
    "str_to_int = int (data_string)\n",
    "boolean_to_int = bool (data_string)\n",
    "complex_to_int = complex (data_complex)\n",
    "float_to_int = float ( data_float)\n",
    "\n",
    "print (int_to_string)\n",
    "print (int_to_float)\n",
    "print (int_to_boolean)\n",
    "print (str_to_int)\n",
    "print (boolean_to_int)\n",
    "print (complex_to_int)\n",
    "print (float_to_int)\n",
    "\n",
    "print(type(int_to_string))\n",
    "print(type(int_to_float))\n",
    "print(type(int_to_boolean))\n",
    "print(type(str_to_int))\n",
    "print(type(boolean_to_int))\n",
    "print(type(complex_to_int))\n",
    "print(type(float_to_int))\n"
   ]
  }
 ],
 "metadata": {
  "kernelspec": {
   "display_name": "Python 3 (ipykernel)",
   "language": "python",
   "name": "python3"
  },
  "language_info": {
   "codemirror_mode": {
    "name": "ipython",
    "version": 3
   },
   "file_extension": ".py",
   "mimetype": "text/x-python",
   "name": "python",
   "nbconvert_exporter": "python",
   "pygments_lexer": "ipython3",
   "version": "3.9.12"
  }
 },
 "nbformat": 4,
 "nbformat_minor": 5
}
